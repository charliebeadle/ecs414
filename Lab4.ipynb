{
 "cells": [
  {
   "cell_type": "raw",
   "metadata": {},
   "source": [
    "in this lab we are going to revisit the Ship class from last lab\n",
    "\n",
    "To start with consider the Ship class from the previous lab:\n",
    "add to the Ship class an instance variable of type boolean named canMove and add a getter getCanMove() and a setter setCanMove(boolean b)\n",
    "\n",
    "add to the Ship class a method\n",
    "public void move(int newX, int newY)\n",
    "which is meant to move the ship from its current position x,y to a new position newX, newY. \n",
    "\n",
    "Declare the classes Ship, CruiseShip, AircraftCarrier abstract or final (and some of their methods too) depending on their role"
   ]
  },
  {
   "cell_type": "code",
   "execution_count": 1,
   "metadata": {},
   "outputs": [],
   "source": [
    "//write the new Ship class\n",
    "\n"
   ]
  },
  {
   "cell_type": "raw",
   "metadata": {},
   "source": [
    "we now modify the subclasses of Ship. \n",
    "\n",
    "for CruiseShip:\n",
    "\n",
    "first modify the method getStatus. The test between seacondition and shipType stays the same as in the old CruiseShip, but after the test, if the ship can move then the method should first set the canMove variable to true and then return \"This cruise ship can move: \"+seaConditions+\" \"+getType().\n",
    "If the ship cannot move then the method should first set the canMove variable to false and then return \"This cruise ship has to stay put: \"+seaConditions+\" \"+getType()\n",
    "\n",
    "In CruiseShip we also override the move method of the super class.\n",
    "The move method in CruiseShip will check whether the distance between the newX and x is <= 30: if it is it will set x to newX otherwise will leave x unchanged. Similarly for y it will do the same check between newY and y: if their distance is <=30 it will set y to newY otherwise will leave y unchanged.\n",
    "To measure the distance between x and newX (or between y and newY) you need to use the absolute value of the difference i.e. Math.abs(x-newX)"
   ]
  },
  {
   "cell_type": "code",
   "execution_count": 2,
   "metadata": {},
   "outputs": [],
   "source": [
    "//write class CruiseShip\n",
    "\n",
    "\n"
   ]
  },
  {
   "cell_type": "raw",
   "metadata": {},
   "source": [
    "Do now the same for AircraftCarrier:\n",
    "first modify getStatus also setting canMove true or false as for CruiseShip and then \n",
    "return \"This AircraftCarrier has to stay put: \"+seaConditions+\" \"+getType() when it cannot move and \n",
    "return \"This AircraftCarrier can move: \"+seaConditions+\" \"+getType() when it can move.\n",
    "\n",
    "The move method is also overridden in AircraftCarrier; the only difference being that here in the method move instead of using 30 for the distance you should use 50"
   ]
  },
  {
   "cell_type": "code",
   "execution_count": 3,
   "metadata": {},
   "outputs": [],
   "source": [
    "//write class AircraftCarrier"
   ]
  },
  {
   "cell_type": "raw",
   "metadata": {},
   "source": [
    "Let's put the above together in a program.\n",
    "The program contains the three classes above.\n",
    "It also contain a class PortMaster which contains a main method.\n",
    "\n",
    "in the main method you should create an array of ships and populate it with 10 random instances of CruiseShip and AircraftCarrier. \n",
    "\n",
    "You should then read the command line argument and convert it to an integer seaConditions. \n",
    "\n",
    "You should then write a loop over the array of ships.\n",
    "for each ship in the array you should first call the getStatus method and print its value followed by the ship position x and y\n",
    "\n",
    "then use a random integer between x+10 and x+60 for newX and a random integer between y+10 and y+60 for newY and \n",
    "then call the move(newX,newY) method. After the move print the ship new position.\n",
    "\n",
    "The exercises is about polymorphism so it is essential for this exercises that you implement it correctly and understand it.\n",
    "Make sure you understand where the subsitution principle is used and where the polymorphic statements are.\n",
    "\n",
    "for example if we call\n",
    "String[] args={\"10\"};\n",
    "PortMaster.main(args);\n",
    "\n",
    "a typical output could be:\n",
    "\n",
    "This cruise ship has to stay put: 10 10 100 200  100 200\n",
    "This AircraftCarrier can move: 10 19 100 200  134 200\n",
    "This cruise ship can move: 10 13 100 200  100 210\n",
    "This cruise ship has to stay put: 10 11 100 200  100 200\n",
    "This cruise ship has to stay put: 10 12 100 200  100 200\n",
    "This AircraftCarrier can move: 10 18 100 200  112 200\n",
    "This AircraftCarrier can move: 10 15 100 200  130 233\n",
    "This AircraftCarrier can move: 10 17 100 200  118 248\n",
    "This AircraftCarrier can move: 10 16 100 200  133 241\n",
    "This AircraftCarrier can move: 10 16 100 200  146 247\n"
   ]
  },
  {
   "cell_type": "code",
   "execution_count": 25,
   "metadata": {},
   "outputs": [],
   "source": [
    "//write program here\n",
    "\n",
    "\n"
   ]
  },
  {
   "cell_type": "raw",
   "metadata": {},
   "source": [
    "Add now a class PortAuthority\n",
    "which has a class method\n",
    "public static boolean authorize(Ship s)\n",
    "which return true with probability 1/4 if s is a CruiseShip\n",
    "and return true with probability 9/10 if s is an AircraftCarrier \n",
    "\n",
    "Add also an interface \n",
    "RequestPortAuthority\n",
    "which has a method\n",
    "public boolean authorization()\n",
    "\n",
    "The interface is implemented by both subclasses of Ship.\n",
    "The implementation returns the value of the method authorize in PortAuthority with argument the current ship \n",
    "\n",
    "the method autorization is then called inside the method move of the subclasses, i.e. the method move has to check canMove and that authorize is true before changing the x and y position of the ship (notice: the old constraints about changing positions if the change is below 30 or 50 depending on the subclass should still be enforced).\n",
    "\n",
    "run again the main in PortMaster\n",
    "you should get an output similar to \n",
    "\n",
    "This cruise ship has to stay put: 10 9 100 200  100 200\n",
    "This AircraftCarrier can move: 10 20 100 200  100 246\n",
    "This cruise ship has to stay put: 10 11 100 200  100 200\n",
    "This cruise ship can move: 10 14 100 200  100 200\n",
    "This cruise ship has to stay put: 10 11 100 200  100 200\n",
    "This cruise ship has to stay put: 10 12 100 200  100 200\n",
    "This cruise ship has to stay put: 10 11 100 200  100 200\n",
    "This AircraftCarrier can move: 10 16 100 200  100 224\n",
    "This cruise ship can move: 10 14 100 200  112 200\n",
    "This cruise ship has to stay put: 10 9 100 200  100 200\n",
    "\n",
    "i.e. fewer ships will move because now they need also the authorization from the PortAuthority"
   ]
  },
  {
   "cell_type": "code",
   "execution_count": null,
   "metadata": {},
   "outputs": [],
   "source": [
    "//write program here\n",
    "\n",
    "\n",
    "\n",
    "\n"
   ]
  },
  {
   "cell_type": "raw",
   "metadata": {},
   "source": [
    "Further exercises:\n",
    "\n",
    "1. write a loop in the PortMaster class where ships don't move just once but n times\n",
    "\n",
    "2. Add an additional meaningful interface which is implemented by one of the subclassess\n",
    "\n",
    "3. Add to the class Ship a log, this is string which records all positions and authorizations, after the loop in PortMaster is finished print the logs of all ships so you can see the ships movement history\n",
    "\n",
    "4. Deal with possible collisions of ships, find a way to detect and divert ships if a possible collision betweek ships may arise\n",
    "\n",
    "5. Add some further subclasses e.g. LeisureShip, Tanker etc set appropriate shipTypes, appropriate move methods overriding the superclass move and add them to the program above "
   ]
  },
  {
   "cell_type": "code",
   "execution_count": null,
   "metadata": {},
   "outputs": [],
   "source": [
    "//write program here\n",
    "\n",
    "\n",
    "\n"
   ]
  }
 ],
 "metadata": {
  "kernelspec": {
   "display_name": "Java",
   "language": "java",
   "name": "java"
  },
  "language_info": {
   "codemirror_mode": "java",
   "file_extension": ".jshell",
   "mimetype": "text/x-java-source",
   "name": "Java",
   "pygments_lexer": "java",
   "version": "11.0.8+10-LTS"
  }
 },
 "nbformat": 4,
 "nbformat_minor": 4
}
